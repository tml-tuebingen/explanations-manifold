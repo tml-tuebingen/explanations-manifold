{
 "cells": [
  {
   "cell_type": "code",
   "execution_count": null,
   "metadata": {},
   "outputs": [],
   "source": [
    "import os\n",
    "import torch\n",
    "import pandas as pd\n",
    "import numpy as np\n",
    "import matplotlib.pyplot as plt\n",
    "import PIL\n",
    "from PIL import Image\n",
    "from torch.utils.data import Dataset, DataLoader\n",
    "from torchvision import transforms, utils, models\n",
    "\n",
    "from ds import *\n",
    "from networks import *\n",
    "from utils import *"
   ]
  },
  {
   "cell_type": "code",
   "execution_count": null,
   "metadata": {},
   "outputs": [],
   "source": [
    "model_file = 'C:/Users/sbord/Downloads/eMani/eMani/ckpt/ResNet50_retino_last.pth'\n",
    "\n",
    "state_dict = torch.load(model_file)\n",
    "Net = models.resnet50()\n",
    "num_features = Net.fc.in_features\n",
    "fc_new = torch.nn.Linear(num_features, 2)\n",
    "Net.fc = fc_new\n",
    "\n",
    "Net.load_state_dict(state_dict)\n",
    "Net.eval()\n",
    "print(Net)"
   ]
  },
  {
   "cell_type": "code",
   "execution_count": null,
   "metadata": {},
   "outputs": [],
   "source": [
    "model_file = 'C:/Users/sbord/Downloads/eMani/eMani/ckpt/ResNet50_retino_best.pth'\n",
    "\n",
    "state_dict = torch.load(model_file)\n",
    "Net2 = models.resnet50()\n",
    "num_features = Net2.fc.in_features\n",
    "fc_new = torch.nn.Linear(num_features, 2)\n",
    "Net2.fc = fc_new\n",
    "\n",
    "Net2.load_state_dict(state_dict)\n",
    "Net2.eval()\n",
    "print(Net2)"
   ]
  },
  {
   "cell_type": "code",
   "execution_count": null,
   "metadata": {},
   "outputs": [],
   "source": [
    "for name, parameters in Net.named_parameters():\n",
    "    assert (Net2.state_dict()[name] == parameters).all()"
   ]
  }
 ],
 "metadata": {
  "kernelspec": {
   "display_name": "deeplearning",
   "language": "python",
   "name": "python3"
  },
  "language_info": {
   "codemirror_mode": {
    "name": "ipython",
    "version": 3
   },
   "file_extension": ".py",
   "mimetype": "text/x-python",
   "name": "python",
   "nbconvert_exporter": "python",
   "pygments_lexer": "ipython3",
   "version": "3.9.16"
  },
  "orig_nbformat": 4
 },
 "nbformat": 4,
 "nbformat_minor": 2
}
