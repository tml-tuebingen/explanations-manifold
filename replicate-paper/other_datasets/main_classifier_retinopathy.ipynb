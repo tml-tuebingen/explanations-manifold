{
 "cells": [
  {
   "cell_type": "code",
   "execution_count": null,
   "id": "3554adba-cd75-48c3-b70c-221bd6926633",
   "metadata": {},
   "outputs": [],
   "source": [
    "import os\n",
    "import torch\n",
    "import pandas as pd\n",
    "import numpy as np\n",
    "import matplotlib.pyplot as plt\n",
    "import PIL\n",
    "from PIL import Image\n",
    "from torch.utils.data import Dataset, DataLoader\n",
    "from torchvision import transforms, utils, models\n",
    "\n",
    "from ds import *\n",
    "from networks import *\n",
    "from utils import *"
   ]
  },
  {
   "attachments": {},
   "cell_type": "markdown",
   "id": "0d2c9aeb-62e9-4b67-b4c4-fba7b3aca56f",
   "metadata": {},
   "source": [
    "## Get data loaders"
   ]
  },
  {
   "cell_type": "code",
   "execution_count": null,
   "id": "29f1d31c-cb32-4edc-99ca-e098962096e4",
   "metadata": {},
   "outputs": [],
   "source": [
    "train_tfm = transforms.Compose([\n",
    "        transforms.ToPILImage(),\n",
    "        transforms.ColorJitter(),\n",
    "        transforms.RandomHorizontalFlip(),\n",
    "        transforms.ToTensor()\n",
    "])\n",
    "train_dset = CxVAE_retino_Dset(\n",
    "    csv_file='<path to>/retinopathy_small_balanced/balanced_binary_train_labels.csv', \n",
    "    root_dir='<path to>/retinopathy_small_balanced/balanced_subset_train3000_val100_test400/',\n",
    "    tfm=train_tfm\n",
    ")\n",
    "val_dset = CxVAE_retino_Dset(\n",
    "    csv_file='<path to>/retinopathy_small_balanced/balanced_binary_val_labels.csv', \n",
    "    root_dir='<path to>/retinopathy_small_balanced/balanced_subset_train3000_val100_test400/'\n",
    ")\n",
    "test_dset = CxVAE_retino_Dset(\n",
    "    csv_file='<path to>/retinopathy_small_balanced/balanced_binary_test_labels.csv', \n",
    "    root_dir='<path to>/retinopathy_small_balanced/balanced_subset_train3000_val100_test400/'\n",
    ")\n",
    "\n",
    "train_loader = DataLoader(train_dset, batch_size=2, shuffle=True, num_workers=8, pin_memory=True)\n",
    "val_loader = DataLoader(val_dset, batch_size=2, shuffle=False, num_workers=8, pin_memory=False)\n",
    "test_loader = DataLoader(test_dset, batch_size=2, shuffle=False, num_workers=8, pin_memory=False)"
   ]
  },
  {
   "attachments": {},
   "cell_type": "markdown",
   "id": "98cc203f-4546-4d87-a5c3-85bd6a407d61",
   "metadata": {},
   "source": [
    "## Define model and pass to the training loop"
   ]
  },
  {
   "cell_type": "code",
   "execution_count": null,
   "id": "d0720357-650f-4468-b77c-529ac69f8c2d",
   "metadata": {
    "scrolled": true,
    "tags": []
   },
   "outputs": [],
   "source": [
    "Net = models.resnet50(pretrained=True, progress=False)\n",
    "print(Net)\n",
    "\n",
    "# Freeze training for all layers\n",
    "for param in Net.parameters():\n",
    "    param.require_grad = False\n",
    "\n",
    "# Newly created modules have require_grad=True by default\n",
    "num_features = Net.fc.in_features\n",
    "# fc_new = torch.nn.Linear(num_features, 5)\n",
    "fc_new = torch.nn.Linear(num_features, 2)\n",
    "Net.fc = fc_new\n",
    "print(Net)"
   ]
  },
  {
   "cell_type": "code",
   "execution_count": null,
   "id": "b2a9e0f9-8b77-4621-9c48-199f3011173b",
   "metadata": {
    "scrolled": true,
    "tags": []
   },
   "outputs": [],
   "source": [
    "train_classifier_loop(\n",
    "    train_loader,\n",
    "    val_loader,\n",
    "    Net,\n",
    "    n_epochs=100,\n",
    "    init_lr=1e-5,\n",
    "    eval_every = 5,\n",
    "    dtype = torch.cuda.FloatTensor,\n",
    "    device='cuda',\n",
    "    ckpt_path = '../ckpt/ResNet50_retino'\n",
    ")"
   ]
  },
  {
   "cell_type": "code",
   "execution_count": null,
   "id": "593647b1-a06f-4b82-92e1-045bdc00e9af",
   "metadata": {
    "scrolled": true,
    "tags": []
   },
   "outputs": [],
   "source": [
    "Net.load_state_dict(torch.load('../ckpt/ResNet50_retino_best.pth'))\n",
    "eval_classifier_loop(\n",
    "    test_loader,\n",
    "    Net,\n",
    "    dtype = torch.cuda.FloatTensor,\n",
    "    device='cuda',\n",
    ")"
   ]
  }
 ],
 "metadata": {
  "kernelspec": {
   "display_name": "Python 3 (ipykernel)",
   "language": "python",
   "name": "python3"
  },
  "language_info": {
   "codemirror_mode": {
    "name": "ipython",
    "version": 3
   },
   "file_extension": ".py",
   "mimetype": "text/x-python",
   "name": "python",
   "nbconvert_exporter": "python",
   "pygments_lexer": "ipython3",
   "version": "3.10.5"
  }
 },
 "nbformat": 4,
 "nbformat_minor": 5
}
