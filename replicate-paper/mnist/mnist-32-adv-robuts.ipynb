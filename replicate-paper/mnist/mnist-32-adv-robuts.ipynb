{
 "cells": [
  {
   "cell_type": "code",
   "execution_count": 3,
   "id": "002f3f5f",
   "metadata": {},
   "outputs": [],
   "source": [
    "import torch\n",
    "from torch import nn\n",
    "from torch import optim\n",
    "from torch.optim.lr_scheduler import MultiStepLR\n",
    "import torch.nn.functional as F\n",
    "from torch.utils.data import DataLoader, TensorDataset\n",
    "\n",
    "import torchvision\n",
    "import torchvision.models as models\n",
    "from torchvision import transforms\n",
    "from torchvision.utils import save_image\n",
    "from torchvision.datasets import MNIST\n",
    "\n",
    "from captum.attr import visualization as viz\n",
    "\n",
    "import numpy as np\n",
    "import scipy\n",
    "from scipy.linalg import orth\n",
    "\n",
    "import matplotlib.pyplot as plt\n",
    "import matplotlib.image as mpimg\n",
    "import seaborn as sns\n",
    "import pandas as pd\n",
    "\n",
    "from copy import deepcopy\n",
    "from tqdm import tqdm\n",
    "import pickle as pkl\n",
    "import os\n",
    "import random\n",
    "\n",
    "from scipy import ndimage as ndi\n",
    "from skimage.util import random_noise\n",
    "from skimage import feature\n",
    "\n",
    "# our own imports\n",
    "import util\n",
    "from util import compute_tangent_space, project_into_tangent_space, normalize_image, dcn\n",
    "\n",
    "from models import lenet_model_and_optimizer\n",
    "\n",
    "from SyntheticMNIST import SyntheticMNIST, SyntheticMNIST256\n",
    "\n",
    "%load_ext autoreload\n",
    "%autoreload 2"
   ]
  },
  {
   "cell_type": "code",
   "execution_count": null,
   "id": "846468ab",
   "metadata": {},
   "outputs": [],
   "source": [
    "from cleverhans.torch.attacks.fast_gradient_method import fast_gradient_method\n",
    "from cleverhans.torch.attacks.projected_gradient_descent import projected_gradient_descent\n",
    "from easydict import EasyDict"
   ]
  },
  {
   "cell_type": "code",
   "execution_count": 5,
   "id": "4dab3e8f",
   "metadata": {},
   "outputs": [],
   "source": [
    "def fgsm(model, X, y, epsilon=0.1):\n",
    "    \"\"\" Construct FGSM adversarial examples on the examples X\"\"\"\n",
    "    delta = torch.zeros_like(X, requires_grad=True)\n",
    "    loss = nn.CrossEntropyLoss()(model(X + delta), y)\n",
    "    loss.backward()\n",
    "    return epsilon * delta.grad.detach().sign()\n",
    "\n",
    "def pgd_linf(model, X, y, epsilon=0.1, alpha=0.01, num_iter=20, randomize=False):\n",
    "    \"\"\" Construct FGSM adversarial examples on the examples X\"\"\"\n",
    "    if randomize:\n",
    "        delta = torch.rand_like(X, requires_grad=True)\n",
    "        delta.data = delta.data * 2 * epsilon - epsilon\n",
    "    else:\n",
    "        delta = torch.zeros_like(X, requires_grad=True)\n",
    "        \n",
    "    for t in range(num_iter):\n",
    "        loss = nn.CrossEntropyLoss()(model(X + delta), y)\n",
    "        loss.backward()\n",
    "        delta.data = (delta + alpha*delta.grad.detach().sign()).clamp(-epsilon,epsilon)\n",
    "        delta.grad.zero_()\n",
    "    return delta.detach()\n",
    "\n",
    "def pgd_l2(model, X, y, epsilon=[1., 4., 8.], num_iter=100):\n",
    "    \"\"\" Construct FGSM adversarial examples on the examples X\"\"\"\n",
    "    # randomly choose epsilon\n",
    "    epsilon = np.random.choice(epsilon)\n",
    "    \n",
    "    # choose a random starting point with length epsilon / 2\n",
    "    delta = torch.rand_like(X, requires_grad=True) \n",
    "    norm = torch.linalg.norm(delta.flatten())\n",
    "    delta.data = epsilon * delta.data / norm / 2\n",
    "    \n",
    "    alpha = 2.5 * epsilon / num_iter # fixed step size of 2.5*epsilon/100 as in https://arxiv.org/pdf/1706.06083.pdf\n",
    "    for t in range(num_iter):\n",
    "        loss = nn.CrossEntropyLoss()(model(X + delta), y)\n",
    "        loss.backward()\n",
    "        \n",
    "        # take a step\n",
    "        step = delta.grad.detach()\n",
    "        step = alpha * step / torch.linalg.norm(step.flatten())  \n",
    "        delta.data = delta.data + step\n",
    "        \n",
    "        # project on the epsilon ball around X if necessary\n",
    "        norm = torch.linalg.norm(delta.flatten())\n",
    "        if norm > epsilon:\n",
    "            delta.data = epsilon * delta.data / norm\n",
    "        \n",
    "        # next iteration\n",
    "        delta.grad.zero_()\n",
    "    return delta.detach()"
   ]
  },
  {
   "cell_type": "code",
   "execution_count": 6,
   "id": "0d601f84",
   "metadata": {},
   "outputs": [],
   "source": [
    "def cleverhans_eval_linf(net, testloader, eps):\n",
    "    # Evaluate on clean and adversarial data\n",
    "    net.eval()\n",
    "    report = EasyDict(nb_test=0, correct=0, correct_fgm=0, correct_pgd=0)\n",
    "    for x, y in testloader:\n",
    "        x, y = x.to(device), y.to(device)\n",
    "        x_fgm = fast_gradient_method(net, x, eps, np.inf)\n",
    "        x_pgd = projected_gradient_descent(net, x, eps, 0.01, 40, np.inf)\n",
    "        _, y_pred = net(x).max(1)  # model prediction on clean examples\n",
    "        _, y_pred_fgm = net(x_fgm).max(\n",
    "                1\n",
    "        )  # model prediction on FGM adversarial examples\n",
    "        _, y_pred_pgd = net(x_pgd).max(\n",
    "                1\n",
    "        )  # model prediction on PGD adversarial examples\n",
    "        report.nb_test += y.size(0)\n",
    "        report.correct += y_pred.eq(y).sum().item()\n",
    "        report.correct_fgm += y_pred_fgm.eq(y).sum().item()\n",
    "        report.correct_pgd += y_pred_pgd.eq(y).sum().item()\n",
    "    print(\n",
    "        \"test acc on clean examples (%): {:.3f}\".format(\n",
    "            report.correct / report.nb_test * 100.0\n",
    "        )\n",
    "    )\n",
    "    print(\n",
    "        \"test acc on FGM adversarial examples (%): {:.3f}\".format(\n",
    "            report.correct_fgm / report.nb_test * 100.0\n",
    "        )\n",
    "    )\n",
    "    print(\n",
    "        \"test acc on PGD adversarial examples (%): {:.3f}\".format(\n",
    "            report.correct_pgd / report.nb_test * 100.0\n",
    "        )\n",
    "    )\n",
    "    \n",
    "def cleverhans_eval_l2(net, testloader, eps):\n",
    "    # Evaluate on clean and adversarial data\n",
    "    net.eval()\n",
    "    report = EasyDict(nb_test=0, correct=0, correct_fgm=0, correct_pgd=0)\n",
    "    for x, y in testloader:\n",
    "        x, y = x.to(device), y.to(device)\n",
    "        x_fgm = fast_gradient_method(net, x, eps, 2)\n",
    "        x_pgd = projected_gradient_descent(net, x, eps, 2.5*eps/100, 100, 2)\n",
    "        _, y_pred = net(x).max(1)  # model prediction on clean examples\n",
    "        _, y_pred_fgm = net(x_fgm).max(\n",
    "                1\n",
    "        )  # model prediction on FGM adversarial examples\n",
    "        _, y_pred_pgd = net(x_pgd).max(\n",
    "                1\n",
    "        )  # model prediction on PGD adversarial examples\n",
    "        report.nb_test += y.size(0)\n",
    "        report.correct += y_pred.eq(y).sum().item()\n",
    "        report.correct_fgm += y_pred_fgm.eq(y).sum().item()\n",
    "        report.correct_pgd += y_pred_pgd.eq(y).sum().item()\n",
    "    print(\n",
    "        \"test acc on clean examples (%): {:.3f}\".format(\n",
    "            report.correct / report.nb_test * 100.0\n",
    "        )\n",
    "    )\n",
    "    print(\n",
    "        \"test acc on FGM adversarial examples (%): {:.3f}\".format(\n",
    "            report.correct_fgm / report.nb_test * 100.0\n",
    "        )\n",
    "    )\n",
    "    print(\n",
    "        \"test acc on PGD adversarial examples (%): {:.3f}\".format(\n",
    "            report.correct_pgd / report.nb_test * 100.0\n",
    "        )\n",
    "    )\n",
    "    return 1 - report.correct_pgd / report.nb_test"
   ]
  },
  {
   "cell_type": "code",
   "execution_count": 7,
   "id": "9fccdc1b",
   "metadata": {},
   "outputs": [
    {
     "name": "stdout",
     "output_type": "stream",
     "text": [
      "cuda\n"
     ]
    }
   ],
   "source": [
    "device = torch.device('cuda' if torch.cuda.is_available() else 'cpu')\n",
    "#device = torch.device('cpu')\n",
    "print(device)"
   ]
  },
  {
   "cell_type": "code",
   "execution_count": 8,
   "id": "fd72f035",
   "metadata": {},
   "outputs": [],
   "source": [
    "IMG_DIM = 32"
   ]
  },
  {
   "cell_type": "code",
   "execution_count": 9,
   "id": "44fd4c35",
   "metadata": {},
   "outputs": [
    {
     "name": "stdout",
     "output_type": "stream",
     "text": [
      "10000\n"
     ]
    }
   ],
   "source": [
    "z_monitor, x_monitor, c_monitor, t_monitor = pkl.load(open('/mnt/qb/luxburg/sbordt10/explanations-manifold/output/mnist_monitor_32_10000.pkl', 'rb'))\n",
    "print(len(t_monitor))"
   ]
  },
  {
   "cell_type": "code",
   "execution_count": 11,
   "id": "645aabae",
   "metadata": {},
   "outputs": [
    {
     "name": "stdout",
     "output_type": "stream",
     "text": [
      "1000\n"
     ]
    }
   ],
   "source": [
    "z_monitor, x_monitor, c_monitor, t_monitor = pkl.load(open('./output/mnist_monitor_32_1000.pkl', 'rb'))\n",
    "print(len(t_monitor))"
   ]
  },
  {
   "cell_type": "markdown",
   "id": "cf182f4d",
   "metadata": {},
   "source": [
    "## data"
   ]
  },
  {
   "cell_type": "code",
   "execution_count": 7,
   "id": "10171566",
   "metadata": {},
   "outputs": [],
   "source": [
    "trainset = torch.utils.data.TensorDataset(*torch.load('./data/MNIST32_train.pkl'))\n",
    "trainloader = DataLoader(trainset, batch_size=100, shuffle=True) # same batchsize as in example\n",
    "\n",
    "testset = torch.utils.data.TensorDataset(*torch.load('./data/MNIST32_val.pkl'))\n",
    "testloader = DataLoader(testset, batch_size=100, shuffle=True)"
   ]
  },
  {
   "cell_type": "code",
   "execution_count": 8,
   "id": "774564f3",
   "metadata": {},
   "outputs": [
    {
     "data": {
      "image/png": "[encoded data removed]",
      "text/plain": [
       "<Figure size 1080x1080 with 25 Axes>"
      ]
     },
     "metadata": {
      "needs_background": "light"
     },
     "output_type": "display_data"
    }
   ],
   "source": [
    "fix, axs = plt.subplots(5, 5, figsize=(15, 15))\n",
    "for i in range(5):\n",
    "    for j in range(5):\n",
    "        img, c = iter(trainloader).__next__()\n",
    "        axs[i,j].imshow(dcn(img[0, 0, :, :]), cmap='gray', interpolation='none')\n",
    "        axs[i,j].set_title(f'Class: {c[0]}')\n",
    "        axs[i,j].axis('off')\n",
    "plt.show()"
   ]
  },
  {
   "cell_type": "markdown",
   "id": "9dcecccf",
   "metadata": {},
   "source": [
    "## Adversarially robust training\n",
    "\n",
    "#### monitor how class gradients evolve during training"
   ]
  },
  {
   "cell_type": "code",
   "execution_count": 11,
   "id": "9122edb5",
   "metadata": {},
   "outputs": [
    {
     "data": {
      "text/plain": [
       "MNIST32Model(\n",
       "  (conv1): Conv2d(1, 32, kernel_size=(3, 3), stride=(1, 1))\n",
       "  (conv2): Conv2d(32, 64, kernel_size=(3, 3), stride=(1, 1))\n",
       "  (dropout1): Dropout(p=0.25, inplace=False)\n",
       "  (dropout2): Dropout(p=0.5, inplace=False)\n",
       "  (fc1): Linear(in_features=12544, out_features=128, bias=True)\n",
       "  (fc2): Linear(in_features=128, out_features=10, bias=True)\n",
       ")"
      ]
     },
     "execution_count": 11,
     "metadata": {},
     "output_type": "execute_result"
    }
   ],
   "source": [
    "def model_and_optimizer():\n",
    "    return lenet_model_and_optimizer(lr=1e-1)\n",
    "model, _ = model_and_optimizer()\n",
    "optimizer = optim.SGD(model.parameters(), lr=1e-1)\n",
    "model.to(device)"
   ]
  },
  {
   "cell_type": "code",
   "execution_count": 15,
   "id": "86c548d8",
   "metadata": {},
   "outputs": [],
   "source": [
    "gradient_steps_to_monitor = list(range(21))\n",
    "gradient_steps_to_monitor.extend([25*i for i in range(1, 25)])\n",
    "gradient_steps_to_monitor.extend([600 + 100*i for i in range(1, 15)])\n",
    "gradient_steps_to_monitor.extend([2000 + 1000*i for i in range(1, 100)])"
   ]
  },
  {
   "cell_type": "code",
   "execution_count": 16,
   "id": "edbb6c7e",
   "metadata": {},
   "outputs": [],
   "source": [
    "# decrease the learning rate after 4 epochs\n",
    "scheduler = MultiStepLR(optimizer, milestones=[4], gamma=0.1)"
   ]
  },
  {
   "cell_type": "code",
   "execution_count": 17,
   "id": "19487c5b",
   "metadata": {},
   "outputs": [
    {
     "name": "stderr",
     "output_type": "stream",
     "text": [
      "9it [00:00, 82.61it/s]"
     ]
    },
    {
     "name": "stdout",
     "output_type": "stream",
     "text": [
      " --- Epoch 0 --- \n",
      "Monitoring after 0 gradient steps.\n"
     ]
    },
    {
     "name": "stderr",
     "output_type": "stream",
     "text": [
      "250it [00:02, 86.01it/s]\n"
     ]
    },
    {
     "name": "stdout",
     "output_type": "stream",
     "text": [
      "test acc on clean examples (%): 11.150\n",
      "test acc on FGM adversarial examples (%): 8.670\n",
      "test acc on PGD adversarial examples (%): 8.180\n"
     ]
    },
    {
     "name": "stderr",
     "output_type": "stream",
     "text": [
      "9it [00:00, 89.09it/s]"
     ]
    },
    {
     "name": "stdout",
     "output_type": "stream",
     "text": [
      "Monitoring after 1 gradient steps.\n"
     ]
    },
    {
     "name": "stderr",
     "output_type": "stream",
     "text": [
      "250it [00:02, 87.48it/s]\n"
     ]
    },
    {
     "ename": "KeyboardInterrupt",
     "evalue": "",
     "output_type": "error",
     "traceback": [
      "\u001b[0;31m---------------------------------------------------------------------------\u001b[0m",
      "\u001b[0;31mKeyboardInterrupt\u001b[0m                         Traceback (most recent call last)",
      "\u001b[0;32m/tmp/ipykernel_270386/521155580.py\u001b[0m in \u001b[0;36m<module>\u001b[0;34m\u001b[0m\n\u001b[1;32m     21\u001b[0m             \u001b[0;31m# compute and store fractions\u001b[0m\u001b[0;34m\u001b[0m\u001b[0;34m\u001b[0m\u001b[0;34m\u001b[0m\u001b[0m\n\u001b[1;32m     22\u001b[0m             \u001b[0mtest_zero_one_loss\u001b[0m \u001b[0;34m=\u001b[0m \u001b[0mutil\u001b[0m\u001b[0;34m.\u001b[0m\u001b[0mtest\u001b[0m\u001b[0;34m(\u001b[0m\u001b[0mmodel\u001b[0m\u001b[0;34m,\u001b[0m \u001b[0mtestloader\u001b[0m\u001b[0;34m,\u001b[0m \u001b[0mdevice\u001b[0m\u001b[0;34m,\u001b[0m \u001b[0mverbose\u001b[0m\u001b[0;34m=\u001b[0m\u001b[0;32mFalse\u001b[0m\u001b[0;34m)\u001b[0m\u001b[0;34m\u001b[0m\u001b[0;34m\u001b[0m\u001b[0m\n\u001b[0;32m---> 23\u001b[0;31m             \u001b[0madv_test_zero_one_loss\u001b[0m \u001b[0;34m=\u001b[0m \u001b[0mcleverhans_eval_l2\u001b[0m\u001b[0;34m(\u001b[0m\u001b[0mmodel\u001b[0m\u001b[0;34m,\u001b[0m \u001b[0mtestloader\u001b[0m\u001b[0;34m,\u001b[0m \u001b[0;36m1\u001b[0m\u001b[0;34m)\u001b[0m\u001b[0;34m\u001b[0m\u001b[0;34m\u001b[0m\u001b[0m\n\u001b[0m\u001b[1;32m     24\u001b[0m             \u001b[0;31m# TODO aversarial test loss\u001b[0m\u001b[0;34m\u001b[0m\u001b[0;34m\u001b[0m\u001b[0;34m\u001b[0m\u001b[0m\n\u001b[1;32m     25\u001b[0m             \u001b[0mfrac_grad_its\u001b[0m \u001b[0;34m=\u001b[0m \u001b[0mutil\u001b[0m\u001b[0;34m.\u001b[0m\u001b[0mtangent_space_ratio\u001b[0m\u001b[0;34m(\u001b[0m\u001b[0mgrad_list\u001b[0m\u001b[0;34m,\u001b[0m \u001b[0mt_monitor\u001b[0m\u001b[0;34m[\u001b[0m\u001b[0;34m:\u001b[0m\u001b[0mN\u001b[0m\u001b[0;34m]\u001b[0m\u001b[0;34m)\u001b[0m\u001b[0;34m\u001b[0m\u001b[0;34m\u001b[0m\u001b[0m\n",
      "\u001b[0;32m/tmp/ipykernel_270386/2433991984.py\u001b[0m in \u001b[0;36mcleverhans_eval_l2\u001b[0;34m(net, testloader, eps)\u001b[0m\n\u001b[1;32m     41\u001b[0m         \u001b[0mx\u001b[0m\u001b[0;34m,\u001b[0m \u001b[0my\u001b[0m \u001b[0;34m=\u001b[0m \u001b[0mx\u001b[0m\u001b[0;34m.\u001b[0m\u001b[0mto\u001b[0m\u001b[0;34m(\u001b[0m\u001b[0mdevice\u001b[0m\u001b[0;34m)\u001b[0m\u001b[0;34m,\u001b[0m \u001b[0my\u001b[0m\u001b[0;34m.\u001b[0m\u001b[0mto\u001b[0m\u001b[0;34m(\u001b[0m\u001b[0mdevice\u001b[0m\u001b[0;34m)\u001b[0m\u001b[0;34m\u001b[0m\u001b[0;34m\u001b[0m\u001b[0m\n\u001b[1;32m     42\u001b[0m         \u001b[0mx_fgm\u001b[0m \u001b[0;34m=\u001b[0m \u001b[0mfast_gradient_method\u001b[0m\u001b[0;34m(\u001b[0m\u001b[0mnet\u001b[0m\u001b[0;34m,\u001b[0m \u001b[0mx\u001b[0m\u001b[0;34m,\u001b[0m \u001b[0meps\u001b[0m\u001b[0;34m,\u001b[0m \u001b[0;36m2\u001b[0m\u001b[0;34m)\u001b[0m\u001b[0;34m\u001b[0m\u001b[0;34m\u001b[0m\u001b[0m\n\u001b[0;32m---> 43\u001b[0;31m         \u001b[0mx_pgd\u001b[0m \u001b[0;34m=\u001b[0m \u001b[0mprojected_gradient_descent\u001b[0m\u001b[0;34m(\u001b[0m\u001b[0mnet\u001b[0m\u001b[0;34m,\u001b[0m \u001b[0mx\u001b[0m\u001b[0;34m,\u001b[0m \u001b[0meps\u001b[0m\u001b[0;34m,\u001b[0m \u001b[0;36m2.5\u001b[0m\u001b[0;34m*\u001b[0m\u001b[0meps\u001b[0m\u001b[0;34m/\u001b[0m\u001b[0;36m100\u001b[0m\u001b[0;34m,\u001b[0m \u001b[0;36m100\u001b[0m\u001b[0;34m,\u001b[0m \u001b[0;36m2\u001b[0m\u001b[0;34m)\u001b[0m\u001b[0;34m\u001b[0m\u001b[0;34m\u001b[0m\u001b[0m\n\u001b[0m\u001b[1;32m     44\u001b[0m         \u001b[0m_\u001b[0m\u001b[0;34m,\u001b[0m \u001b[0my_pred\u001b[0m \u001b[0;34m=\u001b[0m \u001b[0mnet\u001b[0m\u001b[0;34m(\u001b[0m\u001b[0mx\u001b[0m\u001b[0;34m)\u001b[0m\u001b[0;34m.\u001b[0m\u001b[0mmax\u001b[0m\u001b[0;34m(\u001b[0m\u001b[0;36m1\u001b[0m\u001b[0;34m)\u001b[0m  \u001b[0;31m# model prediction on clean examples\u001b[0m\u001b[0;34m\u001b[0m\u001b[0;34m\u001b[0m\u001b[0m\n\u001b[1;32m     45\u001b[0m         _, y_pred_fgm = net(x_fgm).max(\n",
      "\u001b[0;32m~/.local/lib/python3.8/site-packages/cleverhans/torch/attacks/projected_gradient_descent.py\u001b[0m in \u001b[0;36mprojected_gradient_descent\u001b[0;34m(model_fn, x, eps, eps_iter, nb_iter, norm, clip_min, clip_max, y, targeted, rand_init, rand_minmax, sanity_checks)\u001b[0m\n\u001b[1;32m    121\u001b[0m     \u001b[0mi\u001b[0m \u001b[0;34m=\u001b[0m \u001b[0;36m0\u001b[0m\u001b[0;34m\u001b[0m\u001b[0;34m\u001b[0m\u001b[0m\n\u001b[1;32m    122\u001b[0m     \u001b[0;32mwhile\u001b[0m \u001b[0mi\u001b[0m \u001b[0;34m<\u001b[0m \u001b[0mnb_iter\u001b[0m\u001b[0;34m:\u001b[0m\u001b[0;34m\u001b[0m\u001b[0;34m\u001b[0m\u001b[0m\n\u001b[0;32m--> 123\u001b[0;31m         adv_x = fast_gradient_method(\n\u001b[0m\u001b[1;32m    124\u001b[0m             \u001b[0mmodel_fn\u001b[0m\u001b[0;34m,\u001b[0m\u001b[0;34m\u001b[0m\u001b[0;34m\u001b[0m\u001b[0m\n\u001b[1;32m    125\u001b[0m             \u001b[0madv_x\u001b[0m\u001b[0;34m,\u001b[0m\u001b[0;34m\u001b[0m\u001b[0;34m\u001b[0m\u001b[0m\n",
      "\u001b[0;32m~/.local/lib/python3.8/site-packages/cleverhans/torch/attacks/fast_gradient_method.py\u001b[0m in \u001b[0;36mfast_gradient_method\u001b[0;34m(model_fn, x, eps, norm, clip_min, clip_max, y, targeted, sanity_checks)\u001b[0m\n\u001b[1;32m     79\u001b[0m     \u001b[0;31m# Compute loss\u001b[0m\u001b[0;34m\u001b[0m\u001b[0;34m\u001b[0m\u001b[0;34m\u001b[0m\u001b[0m\n\u001b[1;32m     80\u001b[0m     \u001b[0mloss_fn\u001b[0m \u001b[0;34m=\u001b[0m \u001b[0mtorch\u001b[0m\u001b[0;34m.\u001b[0m\u001b[0mnn\u001b[0m\u001b[0;34m.\u001b[0m\u001b[0mCrossEntropyLoss\u001b[0m\u001b[0;34m(\u001b[0m\u001b[0;34m)\u001b[0m\u001b[0;34m\u001b[0m\u001b[0;34m\u001b[0m\u001b[0m\n\u001b[0;32m---> 81\u001b[0;31m     \u001b[0mloss\u001b[0m \u001b[0;34m=\u001b[0m \u001b[0mloss_fn\u001b[0m\u001b[0;34m(\u001b[0m\u001b[0mmodel_fn\u001b[0m\u001b[0;34m(\u001b[0m\u001b[0mx\u001b[0m\u001b[0;34m)\u001b[0m\u001b[0;34m,\u001b[0m \u001b[0my\u001b[0m\u001b[0;34m)\u001b[0m\u001b[0;34m\u001b[0m\u001b[0;34m\u001b[0m\u001b[0m\n\u001b[0m\u001b[1;32m     82\u001b[0m     \u001b[0;31m# If attack is targeted, minimize loss of target label rather than maximize loss of correct label\u001b[0m\u001b[0;34m\u001b[0m\u001b[0;34m\u001b[0m\u001b[0;34m\u001b[0m\u001b[0m\n\u001b[1;32m     83\u001b[0m     \u001b[0;32mif\u001b[0m \u001b[0mtargeted\u001b[0m\u001b[0;34m:\u001b[0m\u001b[0;34m\u001b[0m\u001b[0;34m\u001b[0m\u001b[0m\n",
      "\u001b[0;32m/opt/conda/lib/python3.8/site-packages/torch/nn/modules/module.py\u001b[0m in \u001b[0;36m_call_impl\u001b[0;34m(self, *input, **kwargs)\u001b[0m\n\u001b[1;32m    887\u001b[0m             \u001b[0mresult\u001b[0m \u001b[0;34m=\u001b[0m \u001b[0mself\u001b[0m\u001b[0;34m.\u001b[0m\u001b[0m_slow_forward\u001b[0m\u001b[0;34m(\u001b[0m\u001b[0;34m*\u001b[0m\u001b[0minput\u001b[0m\u001b[0;34m,\u001b[0m \u001b[0;34m**\u001b[0m\u001b[0mkwargs\u001b[0m\u001b[0;34m)\u001b[0m\u001b[0;34m\u001b[0m\u001b[0;34m\u001b[0m\u001b[0m\n\u001b[1;32m    888\u001b[0m         \u001b[0;32melse\u001b[0m\u001b[0;34m:\u001b[0m\u001b[0;34m\u001b[0m\u001b[0;34m\u001b[0m\u001b[0m\n\u001b[0;32m--> 889\u001b[0;31m             \u001b[0mresult\u001b[0m \u001b[0;34m=\u001b[0m \u001b[0mself\u001b[0m\u001b[0;34m.\u001b[0m\u001b[0mforward\u001b[0m\u001b[0;34m(\u001b[0m\u001b[0;34m*\u001b[0m\u001b[0minput\u001b[0m\u001b[0;34m,\u001b[0m \u001b[0;34m**\u001b[0m\u001b[0mkwargs\u001b[0m\u001b[0;34m)\u001b[0m\u001b[0;34m\u001b[0m\u001b[0;34m\u001b[0m\u001b[0m\n\u001b[0m\u001b[1;32m    890\u001b[0m         for hook in itertools.chain(\n\u001b[1;32m    891\u001b[0m                 \u001b[0m_global_forward_hooks\u001b[0m\u001b[0;34m.\u001b[0m\u001b[0mvalues\u001b[0m\u001b[0;34m(\u001b[0m\u001b[0;34m)\u001b[0m\u001b[0;34m,\u001b[0m\u001b[0;34m\u001b[0m\u001b[0;34m\u001b[0m\u001b[0m\n",
      "\u001b[0;32m/opt/conda/lib/python3.8/site-packages/torch/nn/modules/loss.py\u001b[0m in \u001b[0;36mforward\u001b[0;34m(self, input, target)\u001b[0m\n\u001b[1;32m   1045\u001b[0m     \u001b[0;32mdef\u001b[0m \u001b[0mforward\u001b[0m\u001b[0;34m(\u001b[0m\u001b[0mself\u001b[0m\u001b[0;34m,\u001b[0m \u001b[0minput\u001b[0m\u001b[0;34m:\u001b[0m \u001b[0mTensor\u001b[0m\u001b[0;34m,\u001b[0m \u001b[0mtarget\u001b[0m\u001b[0;34m:\u001b[0m \u001b[0mTensor\u001b[0m\u001b[0;34m)\u001b[0m \u001b[0;34m->\u001b[0m \u001b[0mTensor\u001b[0m\u001b[0;34m:\u001b[0m\u001b[0;34m\u001b[0m\u001b[0;34m\u001b[0m\u001b[0m\n\u001b[1;32m   1046\u001b[0m         \u001b[0;32massert\u001b[0m \u001b[0mself\u001b[0m\u001b[0;34m.\u001b[0m\u001b[0mweight\u001b[0m \u001b[0;32mis\u001b[0m \u001b[0;32mNone\u001b[0m \u001b[0;32mor\u001b[0m \u001b[0misinstance\u001b[0m\u001b[0;34m(\u001b[0m\u001b[0mself\u001b[0m\u001b[0;34m.\u001b[0m\u001b[0mweight\u001b[0m\u001b[0;34m,\u001b[0m \u001b[0mTensor\u001b[0m\u001b[0;34m)\u001b[0m\u001b[0;34m\u001b[0m\u001b[0;34m\u001b[0m\u001b[0m\n\u001b[0;32m-> 1047\u001b[0;31m         return F.cross_entropy(input, target, weight=self.weight,\n\u001b[0m\u001b[1;32m   1048\u001b[0m                                ignore_index=self.ignore_index, reduction=self.reduction)\n\u001b[1;32m   1049\u001b[0m \u001b[0;34m\u001b[0m\u001b[0m\n",
      "\u001b[0;32m/opt/conda/lib/python3.8/site-packages/torch/nn/functional.py\u001b[0m in \u001b[0;36mcross_entropy\u001b[0;34m(input, target, weight, size_average, ignore_index, reduce, reduction)\u001b[0m\n\u001b[1;32m   2691\u001b[0m     \u001b[0;32mif\u001b[0m \u001b[0msize_average\u001b[0m \u001b[0;32mis\u001b[0m \u001b[0;32mnot\u001b[0m \u001b[0;32mNone\u001b[0m \u001b[0;32mor\u001b[0m \u001b[0mreduce\u001b[0m \u001b[0;32mis\u001b[0m \u001b[0;32mnot\u001b[0m \u001b[0;32mNone\u001b[0m\u001b[0;34m:\u001b[0m\u001b[0;34m\u001b[0m\u001b[0;34m\u001b[0m\u001b[0m\n\u001b[1;32m   2692\u001b[0m         \u001b[0mreduction\u001b[0m \u001b[0;34m=\u001b[0m \u001b[0m_Reduction\u001b[0m\u001b[0;34m.\u001b[0m\u001b[0mlegacy_get_string\u001b[0m\u001b[0;34m(\u001b[0m\u001b[0msize_average\u001b[0m\u001b[0;34m,\u001b[0m \u001b[0mreduce\u001b[0m\u001b[0;34m)\u001b[0m\u001b[0;34m\u001b[0m\u001b[0;34m\u001b[0m\u001b[0m\n\u001b[0;32m-> 2693\u001b[0;31m     \u001b[0;32mreturn\u001b[0m \u001b[0mnll_loss\u001b[0m\u001b[0;34m(\u001b[0m\u001b[0mlog_softmax\u001b[0m\u001b[0;34m(\u001b[0m\u001b[0minput\u001b[0m\u001b[0;34m,\u001b[0m \u001b[0;36m1\u001b[0m\u001b[0;34m)\u001b[0m\u001b[0;34m,\u001b[0m \u001b[0mtarget\u001b[0m\u001b[0;34m,\u001b[0m \u001b[0mweight\u001b[0m\u001b[0;34m,\u001b[0m \u001b[0;32mNone\u001b[0m\u001b[0;34m,\u001b[0m \u001b[0mignore_index\u001b[0m\u001b[0;34m,\u001b[0m \u001b[0;32mNone\u001b[0m\u001b[0;34m,\u001b[0m \u001b[0mreduction\u001b[0m\u001b[0;34m)\u001b[0m\u001b[0;34m\u001b[0m\u001b[0;34m\u001b[0m\u001b[0m\n\u001b[0m\u001b[1;32m   2694\u001b[0m \u001b[0;34m\u001b[0m\u001b[0m\n\u001b[1;32m   2695\u001b[0m \u001b[0;34m\u001b[0m\u001b[0m\n",
      "\u001b[0;32m/opt/conda/lib/python3.8/site-packages/torch/nn/functional.py\u001b[0m in \u001b[0;36mnll_loss\u001b[0;34m(input, target, weight, size_average, ignore_index, reduce, reduction)\u001b[0m\n\u001b[1;32m   2386\u001b[0m         )\n\u001b[1;32m   2387\u001b[0m     \u001b[0;32mif\u001b[0m \u001b[0mdim\u001b[0m \u001b[0;34m==\u001b[0m \u001b[0;36m2\u001b[0m\u001b[0;34m:\u001b[0m\u001b[0;34m\u001b[0m\u001b[0;34m\u001b[0m\u001b[0m\n\u001b[0;32m-> 2388\u001b[0;31m         \u001b[0mret\u001b[0m \u001b[0;34m=\u001b[0m \u001b[0mtorch\u001b[0m\u001b[0;34m.\u001b[0m\u001b[0m_C\u001b[0m\u001b[0;34m.\u001b[0m\u001b[0m_nn\u001b[0m\u001b[0;34m.\u001b[0m\u001b[0mnll_loss\u001b[0m\u001b[0;34m(\u001b[0m\u001b[0minput\u001b[0m\u001b[0;34m,\u001b[0m \u001b[0mtarget\u001b[0m\u001b[0;34m,\u001b[0m \u001b[0mweight\u001b[0m\u001b[0;34m,\u001b[0m \u001b[0m_Reduction\u001b[0m\u001b[0;34m.\u001b[0m\u001b[0mget_enum\u001b[0m\u001b[0;34m(\u001b[0m\u001b[0mreduction\u001b[0m\u001b[0;34m)\u001b[0m\u001b[0;34m,\u001b[0m \u001b[0mignore_index\u001b[0m\u001b[0;34m)\u001b[0m\u001b[0;34m\u001b[0m\u001b[0;34m\u001b[0m\u001b[0m\n\u001b[0m\u001b[1;32m   2389\u001b[0m     \u001b[0;32melif\u001b[0m \u001b[0mdim\u001b[0m \u001b[0;34m==\u001b[0m \u001b[0;36m4\u001b[0m\u001b[0;34m:\u001b[0m\u001b[0;34m\u001b[0m\u001b[0;34m\u001b[0m\u001b[0m\n\u001b[1;32m   2390\u001b[0m         \u001b[0mret\u001b[0m \u001b[0;34m=\u001b[0m \u001b[0mtorch\u001b[0m\u001b[0;34m.\u001b[0m\u001b[0m_C\u001b[0m\u001b[0;34m.\u001b[0m\u001b[0m_nn\u001b[0m\u001b[0;34m.\u001b[0m\u001b[0mnll_loss2d\u001b[0m\u001b[0;34m(\u001b[0m\u001b[0minput\u001b[0m\u001b[0;34m,\u001b[0m \u001b[0mtarget\u001b[0m\u001b[0;34m,\u001b[0m \u001b[0mweight\u001b[0m\u001b[0;34m,\u001b[0m \u001b[0m_Reduction\u001b[0m\u001b[0;34m.\u001b[0m\u001b[0mget_enum\u001b[0m\u001b[0;34m(\u001b[0m\u001b[0mreduction\u001b[0m\u001b[0;34m)\u001b[0m\u001b[0;34m,\u001b[0m \u001b[0mignore_index\u001b[0m\u001b[0;34m)\u001b[0m\u001b[0;34m\u001b[0m\u001b[0;34m\u001b[0m\u001b[0m\n",
      "\u001b[0;31mKeyboardInterrupt\u001b[0m: "
     ]
    }
   ],
   "source": [
    "N = 250 # size of evaluation dataset\n",
    "inputs = [x_monitor[i, :, :, :] for i in range(N)]\n",
    "model.to(device)\n",
    "ce_loss = torch.nn.CrossEntropyLoss()\n",
    "num_gradient_steps = 0\n",
    "gradient_step_monitoring = {}\n",
    "\n",
    "for i_epoch in range(15):    \n",
    "    print(f' --- Epoch {i_epoch} --- ')\n",
    "    # gradient descent on the dataset\n",
    "    ce_loss = torch.nn.CrossEntropyLoss()\n",
    "    model.train()\n",
    "    train_loss = 0\n",
    "    train_zero_one_loss = 0\n",
    "    for img, label in trainloader:\n",
    "        # monitoring\n",
    "        if num_gradient_steps in gradient_steps_to_monitor: \n",
    "            print(f'Monitoring after {num_gradient_steps} gradient steps.')\n",
    "            grad_list, int_grad_list, igx_list = util.compute_saliency_maps(model, inputs)\n",
    "            smooth_grad_list = [util.smooth_grad(model, img, 0.02, 25) for img in inputs]\n",
    "            # compute and store fractions\n",
    "            test_zero_one_loss = util.test(model, testloader, device, verbose=False)\n",
    "            adv_test_zero_one_loss = cleverhans_eval_l2(model, testloader, 1)\n",
    "            # TODO aversarial test loss\n",
    "            frac_grad_its = util.tangent_space_ratio(grad_list, t_monitor[:N])\n",
    "            frac_smooth_grad_its = util.tangent_space_ratio(smooth_grad_list, t_monitor[:N])\n",
    "            frac_int_grad_its = util.tangent_space_ratio(int_grad_list, t_monitor[:N]) \n",
    "            frac_ixg_its = util.tangent_space_ratio(igx_list, t_monitor[:N])\n",
    "            gradient_step_monitoring[num_gradient_steps] = [np.mean(frac_grad_its), \n",
    "                                                            np.mean(frac_smooth_grad_its), \n",
    "                                                            np.mean(frac_int_grad_its), \n",
    "                                                            np.mean(frac_ixg_its),\n",
    "                                                            test_zero_one_loss,\n",
    "                                                            adv_test_zero_one_loss]\n",
    "            # resume training \n",
    "            model.train()\n",
    "            \n",
    "        # take a single gradient step\n",
    "        img, label = img.to(device), label.to(device)\n",
    "        \n",
    "        delta = pgd_l2(model, img, label) # adversarial perturbation\n",
    "        \n",
    "        pred = model(img + delta)\n",
    "        optimizer.zero_grad()\n",
    "        loss = ce_loss(pred, label)\n",
    "        loss.backward()\n",
    "        train_loss += loss.item()  \n",
    "        train_zero_one_loss += (pred.softmax(dim=1).argmax(dim=1) != label).sum().item()\n",
    "        optimizer.step()\n",
    "        num_gradient_steps += 1\n",
    "    train_zero_one_loss = train_zero_one_loss / len(trainloader.dataset)\n",
    "    print('Train Error: ', train_zero_one_loss)\n",
    "    \n",
    "    util.test(model, testloader, device)\n",
    "    scheduler.step()"
   ]
  },
  {
   "cell_type": "code",
   "execution_count": null,
   "id": "d4b3abe5",
   "metadata": {},
   "outputs": [],
   "source": [
    "torch.save(gradient_step_monitoring, f'./output/mnist32_adversarial_gradient_step_monitoring_{aid}')\n",
    "torch.save(model.state_dict(), f'./models/mnist_32_adv_robust_l2_v2_{aid}.pth')"
   ]
  },
  {
   "cell_type": "code",
   "execution_count": null,
   "id": "17d11eea",
   "metadata": {},
   "outputs": [],
   "source": [
    "for epsilon in [0.5, 1, 2, 4, 8, 10, 20]:\n",
    "    print(f' --------- {epsilon} --------- ')\n",
    "    cleverhans_eval_l2(model, testloader, epsilon)"
   ]
  }
 ],
 "metadata": {
  "kernelspec": {
   "display_name": "Python 3",
   "language": "python",
   "name": "python3"
  },
  "language_info": {
   "codemirror_mode": {
    "name": "ipython",
    "version": 3
   },
   "file_extension": ".py",
   "mimetype": "text/x-python",
   "name": "python",
   "nbconvert_exporter": "python",
   "pygments_lexer": "ipython3",
   "version": "3.8.8"
  }
 },
 "nbformat": 4,
 "nbformat_minor": 5
}
