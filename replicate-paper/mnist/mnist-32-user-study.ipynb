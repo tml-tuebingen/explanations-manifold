{
 "cells": [
  {
   "cell_type": "code",
   "execution_count": 1,
   "id": "fff94d2c",
   "metadata": {},
   "outputs": [
    {
     "name": "stdout",
     "output_type": "stream",
     "text": [
      "cuda\n"
     ]
    }
   ],
   "source": [
    "import torch\n",
    "from torch import optim\n",
    "from torch.optim.lr_scheduler import StepLR\n",
    "\n",
    "from torch.utils.data import DataLoader, TensorDataset\n",
    "\n",
    "from captum.attr import visualization as viz\n",
    "\n",
    "import numpy as np\n",
    "import scipy\n",
    "from scipy.linalg import orth\n",
    "\n",
    "import matplotlib.pyplot as plt\n",
    "import matplotlib.image as mpimg\n",
    "import seaborn as sns\n",
    "import pandas as pd\n",
    "\n",
    "from copy import deepcopy\n",
    "from tqdm import tqdm\n",
    "import pickle as pkl\n",
    "import random\n",
    "\n",
    "from scipy import ndimage as ndi\n",
    "from skimage.util import random_noise\n",
    "from skimage import feature\n",
    "\n",
    "# our own imports\n",
    "import util\n",
    "from util import compute_tangent_space, project_into_tangent_space, normalize_image, dcn\n",
    "\n",
    "from models import lenet_model_and_optimizer\n",
    "\n",
    "from MNIST32 import MNIST32, MNIST256\n",
    "\n",
    "%load_ext autoreload\n",
    "%autoreload 2\n",
    "\n",
    "device = torch.device('cuda' if torch.cuda.is_available() else 'cpu')\n",
    "#device = torch.device('cpu')\n",
    "print(device)"
   ]
  },
  {
   "cell_type": "code",
   "execution_count": 9,
   "id": "3ffe08dd",
   "metadata": {},
   "outputs": [],
   "source": [
    "from util import plot_saliency, plot_normalized_saliency, plot_saliency_with_image_contour, visualize"
   ]
  },
  {
   "cell_type": "markdown",
   "id": "3840f696",
   "metadata": {},
   "source": [
    "## Load the trained model, test data and feature attributions"
   ]
  },
  {
   "cell_type": "code",
   "execution_count": 2,
   "id": "8db722a7",
   "metadata": {},
   "outputs": [],
   "source": [
    "z_monitor, x_monitor, c_monitor, t_monitor = pkl.load(open('./output/mnist_monitor_32_10000.pkl', 'rb'))\n",
    "testset = torch.utils.data.TensorDataset(x_monitor, c_monitor)\n",
    "testloader = DataLoader(testset, batch_size=32, shuffle=True)"
   ]
  },
  {
   "cell_type": "code",
   "execution_count": 3,
   "id": "353f0b88",
   "metadata": {},
   "outputs": [
    {
     "name": "stdout",
     "output_type": "stream",
     "text": [
      "Test Error:  0.0103\n"
     ]
    },
    {
     "data": {
      "text/plain": [
       "0.0103"
      ]
     },
     "execution_count": 3,
     "metadata": {},
     "output_type": "execute_result"
    }
   ],
   "source": [
    "def model_and_optimizer():\n",
    "    return lenet_model_and_optimizer(lr=1e-3)\n",
    "\n",
    "model, _ = model_and_optimizer()\n",
    "model.load_state_dict(torch.load('./models/mnist32_lenet.pth'))\n",
    "#model.load_state_dict(torch.load(\"./models/mnist_32_adv_robust_l2.pt\"))\n",
    "model.to(device)\n",
    "model.eval()\n",
    "util.test(model, testloader, device)"
   ]
  },
  {
   "cell_type": "code",
   "execution_count": 4,
   "id": "237f6188",
   "metadata": {},
   "outputs": [],
   "source": [
    "inputs = [x_monitor[i, :, :, :] for i in range(len(t_monitor))]\n",
    "grad_list, int_grad_list, igx_list, smooth_grad_list = torch.load('./output/mnist32_feature_attributions.pkl')"
   ]
  },
  {
   "cell_type": "code",
   "execution_count": 5,
   "id": "e0b3ef93",
   "metadata": {},
   "outputs": [],
   "source": [
    "random_vectors_list = [np.random.normal(size = grad_list[0].shape) for _ in range(len(t_monitor))]"
   ]
  },
  {
   "cell_type": "code",
   "execution_count": 6,
   "id": "b79e1c49",
   "metadata": {},
   "outputs": [],
   "source": [
    "frac_random_its = util.tangent_space_ratio(random_vectors_list, t_monitor)\n",
    "frac_grad_its = util.tangent_space_ratio(grad_list, t_monitor)\n",
    "frac_smooth_grad_its = util.tangent_space_ratio(smooth_grad_list, t_monitor)\n",
    "frac_int_grad_its = util.tangent_space_ratio(int_grad_list, t_monitor) \n",
    "frac_ixg_its = util.tangent_space_ratio(igx_list, t_monitor)"
   ]
  },
  {
   "cell_type": "code",
   "execution_count": 7,
   "id": "d9263288",
   "metadata": {},
   "outputs": [
    {
     "name": "stderr",
     "output_type": "stream",
     "text": [
      "100%|██████████| 10000/10000 [00:04<00:00, 2382.57it/s]\n"
     ]
    }
   ],
   "source": [
    "predictions = []\n",
    "for x in tqdm(x_monitor):\n",
    "    img = dcn(x)\n",
    "    pred = model(torch.tensor(img).unsqueeze(0).cuda()).argmax().item()\n",
    "    predictions.append(pred)\n",
    "predictions = torch.tensor(predictions)"
   ]
  },
  {
   "cell_type": "markdown",
   "id": "6102f998",
   "metadata": {},
   "source": [
    "### MNIST Task 1"
   ]
  },
  {
   "cell_type": "code",
   "execution_count": 38,
   "id": "387382a1",
   "metadata": {},
   "outputs": [],
   "source": [
    "# correct predictions with large fraction in tangent space\n",
    "class_max_indices = []\n",
    "for c in range(10):\n",
    "    class_indices = np.where(c_monitor == c)[0]           # indices where the true class is c\n",
    "    class_quantile = np.quantile(np.array(frac_grad_its)[class_indices], 0.9)\n",
    "    pred_indices = np.where(predictions == c)[0]          # indices where we predicted class c\n",
    "    indices = np.where(np.array(frac_grad_its) > class_quantile)[0] # where the fraction in tangent space is additionally larger than the class-quantile\n",
    "    indices = list(set(indices).intersection(class_indices))\n",
    "    indices = list(set(indices).intersection(pred_indices))  # indices where we correctly predicted class c\n",
    "    indices = np.random.choice(indices, size=10, replace=True if len(t_monitor) < 5000 else False)\n",
    "    \n",
    "    for i in range(10):\n",
    "        img = inputs[indices[i]]\n",
    "        grad = grad_list[indices[i]]\n",
    "        tangent_space = t_monitor[indices[i]]\n",
    "        \n",
    "        # tangent space decomposition\n",
    "        grad_in_tangent_space = util.project_into_tangent_space(tangent_space, grad)\n",
    "        grad_not_in_tangnet_space = grad-grad_in_tangent_space\n",
    "        pred = model(img.unsqueeze(0).cuda()).argmax().item()\n",
    "        ratio = np.linalg.norm(grad_in_tangent_space.flatten())/np.linalg.norm(grad.flatten())\n",
    "\n",
    "        # normalize vectors\n",
    "        grad = grad / np.linalg.norm(grad.flatten())\n",
    "        grad_in_tangent_space = grad_in_tangent_space / np.linalg.norm(grad_in_tangent_space.flatten())\n",
    "        grad_not_in_tangnet_space = grad_not_in_tangnet_space / np.linalg.norm(grad_not_in_tangnet_space.flatten())\n",
    "        \n",
    "        # clip the p-percent larget values off\n",
    "        pooled_vectors = np.array((grad, grad_in_tangent_space, grad_not_in_tangnet_space)).flatten().squeeze()\n",
    "        quantile = np.quantile(abs(pooled_vectors), 1-0.005)\n",
    "        \n",
    "        grad[np.where(grad > quantile)] = quantile\n",
    "        grad[np.where(grad < -quantile)] = -quantile\n",
    "        grad_in_tangent_space[np.where(grad_in_tangent_space > quantile)] = quantile\n",
    "        grad_in_tangent_space[np.where(grad_in_tangent_space < -quantile)] = -quantile\n",
    "        grad_not_in_tangnet_space[np.where(grad_not_in_tangnet_space > quantile)] = quantile\n",
    "        grad_not_in_tangnet_space[np.where(grad_not_in_tangnet_space < -quantile)] = -quantile\n",
    "        \n",
    "        # common color space\n",
    "        v = max([max(abs(x.min()), x.max()) for x in [grad, grad_in_tangent_space, grad_not_in_tangnet_space]])\n",
    "    \n",
    "        # img in tangent spac\n",
    "        fig, axs = plt.subplots(figsize=(6, 6))   \n",
    "        plot_saliency(axs, grad_in_tangent_space, -v, v, savefig=f'./output/experiment/mnist0/class{c}_img{i}_tagent.png')\n",
    "        plt.close('all')\n",
    "        \n",
    "        # img not in tangent space\n",
    "        fig, axs = plt.subplots(figsize=(6, 6))   \n",
    "        plot_saliency(axs, grad_not_in_tangnet_space, -v, v, savefig=f'./output/experiment/mnist0/class{c}_img{i}_not_tagent.png')        \n",
    "        plt.close('all')"
   ]
  },
  {
   "cell_type": "markdown",
   "id": "eaf2eea2",
   "metadata": {},
   "source": [
    "### For the human experiment: a reference image of random noise"
   ]
  },
  {
   "cell_type": "code",
   "execution_count": 59,
   "id": "652d915b",
   "metadata": {},
   "outputs": [
    {
     "data": {
      "image/png": "[encoded data removed]",
      "text/plain": [
       "<Figure size 432x432 with 1 Axes>"
      ]
     },
     "metadata": {},
     "output_type": "display_data"
    }
   ],
   "source": [
    "np.random.seed(0)\n",
    "random_vector = np.random.normal(size = grad_list[0].shape)\n",
    "\n",
    "# normalize vector\n",
    "random_vector = random_vector / np.linalg.norm(random_vector.flatten())\n",
    "\n",
    "# clip the p-percent larget values off\n",
    "quantile = np.quantile(abs(random_vector.flatten()), 1-0.005)\n",
    "random_vector[np.where(random_vector > quantile)] = quantile\n",
    "random_vector[np.where(random_vector < -quantile)] = -quantile\n",
    "    \n",
    "# color space\n",
    "v = max(abs(random_vector.min()), random_vector.max())\n",
    "\n",
    "fig, axs = plt.subplots(figsize=(6, 6))   \n",
    "plot_saliency(axs, random_vector, -v, v, savefig=f'./output/experiment/random_vector.png')    \n",
    "plt.show()\n",
    "plt.close('all')"
   ]
  },
  {
   "cell_type": "markdown",
   "id": "4b0f81f4",
   "metadata": {},
   "source": [
    "### For the human experiment: some simple structures"
   ]
  },
  {
   "cell_type": "code",
   "execution_count": 24,
   "id": "95eee407",
   "metadata": {},
   "outputs": [],
   "source": [
    "import matplotlib"
   ]
  },
  {
   "cell_type": "code",
   "execution_count": 60,
   "id": "2e1e447f",
   "metadata": {},
   "outputs": [
    {
     "data": {
      "image/png": "[encoded data removed]",
      "text/plain": [
       "<Figure size 432x432 with 1 Axes>"
      ]
     },
     "metadata": {},
     "output_type": "display_data"
    }
   ],
   "source": [
    "np.random.seed(0)\n",
    "cmap = matplotlib.cm.get_cmap('bwr')\n",
    "\n",
    "random_vector = np.random.normal(size = grad_list[0].shape)\n",
    "\n",
    "# normalize vector\n",
    "random_vector = random_vector / np.linalg.norm(random_vector.flatten())\n",
    "\n",
    "# clip the p-percent larget values off\n",
    "quantile = np.quantile(abs(random_vector.flatten()), 1-0.005)\n",
    "random_vector[np.where(random_vector > quantile)] = quantile\n",
    "random_vector[np.where(random_vector < -quantile)] = -quantile\n",
    "    \n",
    "# color space\n",
    "v = max(abs(random_vector.min()), random_vector.max())+10\n",
    "\n",
    "fig, axs = plt.subplots(figsize=(6, 6))   \n",
    "plot_saliency(axs, random_vector, -v, v)    \n",
    "matplotlib.pyplot.text(x=9, y=22, s='A', size=200, c=cmap(-1))\n",
    "plt.savefig(f'./output/experiment/structured_image.png')\n",
    "plt.show()"
   ]
  },
  {
   "cell_type": "markdown",
   "id": "0cc218f2",
   "metadata": {},
   "source": [
    "## MNIST Task 1: Compare different attributions for the same image"
   ]
  },
  {
   "cell_type": "code",
   "execution_count": 29,
   "id": "00ac7a7a",
   "metadata": {
    "tags": []
   },
   "outputs": [
    {
     "name": "stdout",
     "output_type": "stream",
     "text": [
      "Mean of group A 0.32042871417837093\n",
      "Mean of group B 0.37576198710152264\n"
     ]
    }
   ],
   "source": [
    "A_fraction = 0 # collect summary statistics\n",
    "B_fraction = 0\n",
    "\n",
    "for i in range(100):\n",
    "    sns.set_style('white')\n",
    "    fractions = [frac_grad_its[i], frac_int_grad_its[i], frac_ixg_its[i]]\n",
    "    ordering = np.argsort(fractions)\n",
    "    \n",
    "    fig, axs = plt.subplots(figsize=(6, 6))   \n",
    "    plot_normalized_saliency(axs, grad_list[i], savefig=f'./output/experiment/mnist1/instance{i}_order{ordering[0]}.png')\n",
    "    plt.title(f'instance{i}_order{ordering[0]}: {fractions[0]:.3f}')\n",
    "    #plt.show()\n",
    "    plt.close()\n",
    "    \n",
    "    fig, axs = plt.subplots(figsize=(6, 6))   \n",
    "    plot_normalized_saliency(axs, int_grad_list[i], savefig=f'./output/experiment/mnist1/instance{i}_order{ordering[1]}.png')\n",
    "    plt.title(f'instance{i}_order{ordering[1]}: {fractions[1]:.3f}')\n",
    "    #plt.show()\n",
    "    plt.close()\n",
    "    \n",
    "    fig, axs = plt.subplots(figsize=(6, 6))   \n",
    "    plot_normalized_saliency(axs, igx_list[i], savefig=f'./output/experiment/mnist1/instance{i}_order{ordering[2]}.png')\n",
    "    plt.title(f'instance{i}_order{ordering[2]}: {fractions[2]:.3f}')\n",
    "    #plt.show()\n",
    "    plt.close()\n",
    "    \n",
    "    sorted_fractions = np.sort(fractions)\n",
    "    A_fraction = A_fraction + sorted_fractions[0] + sorted_fractions[1]\n",
    "    B_fraction = B_fraction + sorted_fractions[1] + sorted_fractions[2]\n",
    "    \n",
    "print('Mean of group A', A_fraction / 200)\n",
    "print('Mean of group B', B_fraction / 200)"
   ]
  }
 ],
 "metadata": {
  "kernelspec": {
   "display_name": "Python 3",
   "language": "python",
   "name": "python3"
  },
  "language_info": {
   "codemirror_mode": {
    "name": "ipython",
    "version": 3
   },
   "file_extension": ".py",
   "mimetype": "text/x-python",
   "name": "python",
   "nbconvert_exporter": "python",
   "pygments_lexer": "ipython3",
   "version": "3.8.8"
  }
 },
 "nbformat": 4,
 "nbformat_minor": 5
}
